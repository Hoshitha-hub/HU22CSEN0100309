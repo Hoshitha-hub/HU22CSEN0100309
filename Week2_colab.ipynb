{
  "nbformat": 4,
  "nbformat_minor": 0,
  "metadata": {
    "colab": {
      "provenance": [],
      "authorship_tag": "ABX9TyN90yelProblP6yB71zweMI",
      "include_colab_link": true
    },
    "kernelspec": {
      "name": "python3",
      "display_name": "Python 3"
    },
    "language_info": {
      "name": "python"
    }
  },
  "cells": [
    {
      "cell_type": "markdown",
      "metadata": {
        "id": "view-in-github",
        "colab_type": "text"
      },
      "source": [
        "<a href=\"https://colab.research.google.com/github/Hoshitha-hub/HU22CSEN0100309/blob/main/Week1_colab.ipynb\" target=\"_parent\"><img src=\"https://colab.research.google.com/assets/colab-badge.svg\" alt=\"Open In Colab\"/></a>"
      ]
    },
    {
      "cell_type": "code",
      "execution_count": 3,
      "metadata": {
        "id": "_XJXIJpVIwdi"
      },
      "outputs": [],
      "source": [
        "def Temp_modeling(a,b,c,time):\n",
        "  temperature = a*time**2 + b*time + c\n",
        "  return temperature"
      ]
    },
    {
      "cell_type": "code",
      "source": [
        "#Hardcoded variables\n",
        "a,b,c = 0.1,2,10\n",
        "time = 5"
      ],
      "metadata": {
        "id": "4mZ8SAPHJCLs"
      },
      "execution_count": 4,
      "outputs": []
    },
    {
      "cell_type": "code",
      "source": [
        "#display results\n",
        "print(\"Hard-coded variables for Weather modeling\")\n",
        "print(\"Temperature for hardcoded coefficients at time\",time,\"is\",Temp_modeling(a,b,c,time))"
      ],
      "metadata": {
        "colab": {
          "base_uri": "https://localhost:8080/"
        },
        "id": "80P-T-UdJO5w",
        "outputId": "f2b73467-3bfd-4357-9944-94495074a9c1"
      },
      "execution_count": 6,
      "outputs": [
        {
          "output_type": "stream",
          "name": "stdout",
          "text": [
            "Hard-coded variables for Weather modeling\n",
            "Temperature for hardcoded coefficients at time 5 is 22.5\n"
          ]
        }
      ]
    },
    {
      "cell_type": "code",
      "source": [
        "a=float(input(\"Enter coefficient a: \"))\n",
        "b=float(input(\"Enter coefficient b: \"))\n",
        "c=float(input(\"Enter coefficient c: \"))"
      ],
      "metadata": {
        "colab": {
          "base_uri": "https://localhost:8080/"
        },
        "id": "uEewpwA8Jg5E",
        "outputId": "1c693abe-0cc4-4d16-985f-c90655591e47"
      },
      "execution_count": 7,
      "outputs": [
        {
          "name": "stdout",
          "output_type": "stream",
          "text": [
            "Enter coefficient a: 0.1\n",
            "Enter coefficient b: 2\n",
            "Enter coefficient c: 10\n"
          ]
        }
      ]
    },
    {
      "cell_type": "code",
      "source": [
        "time = float(input(\"Enter time: \"))"
      ],
      "metadata": {
        "colab": {
          "base_uri": "https://localhost:8080/"
        },
        "id": "pZXZPDVBJ2GD",
        "outputId": "185e9f28-74de-421e-d125-38c11b5dc525"
      },
      "execution_count": 8,
      "outputs": [
        {
          "name": "stdout",
          "output_type": "stream",
          "text": [
            "Enter time: 5\n"
          ]
        }
      ]
    },
    {
      "cell_type": "code",
      "source": [
        "print(\"Hard-coded variables for Weather modeling\")\n",
        "print(\"Temperature for keyboard coefficients at time\",time,\"is\",Temp_modeling(a,b,c,time))"
      ],
      "metadata": {
        "colab": {
          "base_uri": "https://localhost:8080/"
        },
        "id": "_rLThuWEJ6lb",
        "outputId": "2f80bc45-f0d2-448f-fa7f-62016bb56c54"
      },
      "execution_count": 9,
      "outputs": [
        {
          "output_type": "stream",
          "name": "stdout",
          "text": [
            "Hard-coded variables for Weather modeling\n",
            "Temperature for keyboard coefficients at time 5.0 is 22.5\n"
          ]
        }
      ]
    },
    {
      "cell_type": "code",
      "source": [
        "#Read coefficients from a file\n",
        "def read_from_file(filename):\n",
        "  with open(filename) as file:\n",
        "    lines = file.readlines()\n",
        "  coefficients = [tuple(map(float, line.strip().split(','))) for line in lines]\n",
        "  return coefficients"
      ],
      "metadata": {
        "id": "A8k2xPw-KJSN"
      },
      "execution_count": 27,
      "outputs": []
    },
    {
      "cell_type": "code",
      "source": [
        "#Example to solve single set of inputs\n",
        "coefficients = read_from_file('/input1.txt')\n",
        "a,b,c,time = coefficients[0]\n",
        "print(\"Read from a file for weather modeling\")\n",
        "print(\"Temperature for keyboard coefficients at time\",time,\"is\",Temp_modeling(a,b,c,time))"
      ],
      "metadata": {
        "colab": {
          "base_uri": "https://localhost:8080/"
        },
        "id": "RBEpG3-8K2Z-",
        "outputId": "6fc45808-f1c4-4058-a3d6-6fb144cb0f7d"
      },
      "execution_count": 29,
      "outputs": [
        {
          "output_type": "stream",
          "name": "stdout",
          "text": [
            "Read from a file for weather modeling\n",
            "Temperature for keyboard coefficients at time 4.0 is 19.6\n"
          ]
        }
      ]
    },
    {
      "cell_type": "code",
      "source": [
        "#Solve for all sets in the file\n",
        "for idx, (a,b,c,time) in enumerate(coefficients):\n",
        "  temperature = Temp_modeling(a,b,c,time)\n",
        "  print(\"Temperature for keyboard coefficients at time\",time,\"is\",Temp_modeling(a,b,c,time))"
      ],
      "metadata": {
        "colab": {
          "base_uri": "https://localhost:8080/"
        },
        "id": "ztCeBJhBLM6G",
        "outputId": "d2b85517-dbfa-4f63-a197-4e0570c24093"
      },
      "execution_count": 33,
      "outputs": [
        {
          "output_type": "stream",
          "name": "stdout",
          "text": [
            "Temperature for keyboard coefficients at time 4.0 is 19.6\n",
            "Temperature for keyboard coefficients at time 5.0 is 29.0\n"
          ]
        }
      ]
    },
    {
      "cell_type": "code",
      "source": [],
      "metadata": {
        "id": "1MLGk2UdNi5K"
      },
      "execution_count": 32,
      "outputs": []
    }
  ]
}
